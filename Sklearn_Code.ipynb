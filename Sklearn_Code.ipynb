{
  "nbformat": 4,
  "nbformat_minor": 0,
  "metadata": {
    "colab": {
      "name": "twin2_0.ipynb",
      "provenance": [],
      "authorship_tag": "ABX9TyN77pqkIygCLH1oX28qTInW",
      "include_colab_link": true
    },
    "kernelspec": {
      "name": "python3",
      "display_name": "Python 3"
    },
    "language_info": {
      "name": "python"
    }
  },
  "cells": [
    {
      "cell_type": "markdown",
      "metadata": {
        "id": "view-in-github",
        "colab_type": "text"
      },
      "source": [
        "<a href=\"https://colab.research.google.com/github/EmmanuelECCI/Logic-Gate-AI/blob/main/Sklearn_Code.ipynb\" target=\"_parent\"><img src=\"https://colab.research.google.com/assets/colab-badge.svg\" alt=\"Open In Colab\"/></a>"
      ]
    },
    {
      "cell_type": "code",
      "metadata": {
        "id": "u-hi1U71LiAP"
      },
      "source": [
        "import numpy as np #procesamiento numerico\n"
      ],
      "execution_count": 1,
      "outputs": []
    },
    {
      "cell_type": "code",
      "metadata": {
        "colab": {
          "base_uri": "https://localhost:8080/"
        },
        "id": "TDhKns34TVgJ",
        "outputId": "f4c930eb-4eaa-4bcb-d516-1b524eed7a93"
      },
      "source": [
        "X = [\n",
        "\t[0, 0],\n",
        "\t[0, 1],\n",
        "\t[1, 0],\n",
        "  [1, 1]\n",
        "]\n",
        "X_np = np.array(X)\n",
        "\n",
        "print(X_np)\n",
        "print()\n",
        "Y= [\n",
        "    [0],\n",
        "    [1],\n",
        "    [1],\n",
        "    [0]\n",
        "]\n",
        "Y_np = np.array(Y)\n",
        "print(Y_np)"
      ],
      "execution_count": 2,
      "outputs": [
        {
          "output_type": "stream",
          "name": "stdout",
          "text": [
            "[[0 0]\n",
            " [0 1]\n",
            " [1 0]\n",
            " [1 1]]\n",
            "\n",
            "[[0]\n",
            " [1]\n",
            " [1]\n",
            " [0]]\n"
          ]
        }
      ]
    },
    {
      "cell_type": "code",
      "metadata": {
        "colab": {
          "base_uri": "https://localhost:8080/"
        },
        "id": "Yq1doKJ1T67J",
        "outputId": "f3537dba-3c62-4607-ed45-b6c758392964"
      },
      "source": [
        "from sklearn.neural_network import MLPClassifier\n",
        "from sklearn.datasets import make_classification\n",
        "from sklearn.model_selection import train_test_split\n",
        "\n",
        "#X, Y = make_classification(n_samples=4, random_state=1)\n",
        "#X_train, X_test, y_train, y_test = train_test_split(X_np, Y_np, stratify=Y_np,random_state=1)\n",
        "clf = MLPClassifier(hidden_layer_sizes=3,learning_rate_init=0.01, max_iter=50,activation='logistic',solver='lbfgs')#Creando red neuronal\n",
        "clf.fit(X_np, Y_np)# HAciendo entrenamiento\n",
        "clf.predict(Y_np)\n"
      ],
      "execution_count": 4,
      "outputs": [
        {
          "output_type": "stream",
          "name": "stderr",
          "text": [
            "/usr/local/lib/python3.7/dist-packages/sklearn/neural_network/_multilayer_perceptron.py:934: DataConversionWarning: A column-vector y was passed when a 1d array was expected. Please change the shape of y to (n_samples, ), for example using ravel().\n",
            "  y = column_or_1d(y, warn=True)\n"
          ]
        },
        {
          "output_type": "execute_result",
          "data": {
            "text/plain": [
              "array([1, 0, 1, 0])"
            ]
          },
          "metadata": {},
          "execution_count": 4
        }
      ]
    }
  ]
}